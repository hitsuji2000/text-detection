{
 "cells": [
  {
   "cell_type": "code",
   "execution_count": null,
   "id": "549871a7",
   "metadata": {},
   "outputs": [
    {
     "data": {
      "text/plain": [
       "True"
      ]
     },
     "execution_count": 8,
     "metadata": {},
     "output_type": "execute_result"
    }
   ],
   "source": [
    "import json\n",
    "import matplotlib.pyplot as plt\n",
    "import matplotlib.image as mpimg\n",
    "\n",
    "# === ファイル名 ===\n",
    "json_file = 'datasets/original/view.json'\n",
    "image_file = 'datasets/original/view.jpg'\n",
    "output_file = 'datasets/original/view.txt'\n",
    "\n",
    "# === JSON を読み込む ===\n",
    "with open(json_file, 'r') as f:\n",
    "    data = json.load(f)\n",
    "\n",
    "# === shapes から DBNet 形式に変換 ===\n",
    "lines = []\n",
    "for shape in data['shapes']:\n",
    "    label = shape['label']\n",
    "    points = shape['points']  # [[x1,y1], [x2,y2], ...]\n",
    "    flat_points = [str(int(p[0])) + ',' + str(int(p[1])) for p in points]\n",
    "    line = ','.join(flat_points) + ',' + label\n",
    "    lines.append(line)\n",
    "\n",
    "# === テキストに保存 ===\n",
    "with open(output_file, 'w') as f:\n",
    "    for line in lines:\n",
    "        f.write(line + '\\n')\n",
    "\n",
    "print(f\"変換が完了しました: {output_file}\")\n",
    "\n",
    "# === 画像を読み込む ===\n",
    "img = mpimg.imread(image_file)\n",
    "\n",
    "# === 描画 ===\n",
    "plt.figure(figsize=(10, 8))\n",
    "plt.imshow(img, origin='upper')  # ← コレがポイント\n",
    "\n",
    "# === shapes をループ ===\n",
    "for shape in data['shapes']:\n",
    "    label = shape['label']\n",
    "    points = shape['points']  # [[x1, y1], [x2, y2], ...]\n",
    "    x = [p[0] for p in points] + [points[0][0]]  # 閉じる\n",
    "    y = [p[1] for p in points] + [points[0][1]]\n",
    "    plt.plot(x, y, marker='o', label=label)\n",
    "\n",
    "\n",
    "plt.legend()\n",
    "plt.title(\"LabelMe Annotations\")\n",
    "plt.show()"
   ]
  }
 ],
 "metadata": {
  "kernelspec": {
   "display_name": "Python 3",
   "language": "python",
   "name": "python3"
  },
  "language_info": {
   "codemirror_mode": {
    "name": "ipython",
    "version": 3
   },
   "file_extension": ".py",
   "mimetype": "text/x-python",
   "name": "python",
   "nbconvert_exporter": "python",
   "pygments_lexer": "ipython3",
   "version": "3.12.4"
  }
 },
 "nbformat": 4,
 "nbformat_minor": 5
}
